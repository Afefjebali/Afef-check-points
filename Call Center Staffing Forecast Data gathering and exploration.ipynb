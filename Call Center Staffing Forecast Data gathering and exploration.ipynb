{
 "cells": [
  {
   "cell_type": "markdown",
   "id": "595756a8",
   "metadata": {},
   "source": [
    "# I- Data gathering and exploration"
   ]
  },
  {
   "cell_type": "markdown",
   "id": "5e8c13d3",
   "metadata": {},
   "source": [
    "### This data represents the daily report of the call center, operating for 8 hours a day over 5 days each week.\n"
   ]
  },
  {
   "cell_type": "code",
   "execution_count": 1,
   "id": "b01dd035",
   "metadata": {},
   "outputs": [],
   "source": [
    "#https://github.com/Afefjebali/Afef-check-points/blob/9460e897fa3bfc42c4ebf599ed2329180d801906/Call%20center%20reports.csv"
   ]
  },
  {
   "cell_type": "markdown",
   "id": "72ac6374",
   "metadata": {},
   "source": [
    "#### 1- Received Calls: This denotes the daily count of calls received. Answered Calls: This reflects the number of calls successfully handled per day. "
   ]
  },
  {
   "cell_type": "markdown",
   "id": "f764412a",
   "metadata": {},
   "source": [
    "#### 2- Pickup Ratio: Calculated as Answered Calls divided by Received Calls per day, this ratio indicates the effectiveness in addressing incoming calls."
   ]
  },
  {
   "cell_type": "markdown",
   "id": "eef2c051",
   "metadata": {},
   "source": [
    "#### 3- Service Required: This represents the percentage of service commitments agreed upon with stakeholders to be achieved."
   ]
  },
  {
   "cell_type": "markdown",
   "id": "edfc652e",
   "metadata": {},
   "source": [
    "#### 4- Dunning Letters: This signifies the number of reminders sent to clients on that particular day."
   ]
  },
  {
   "cell_type": "markdown",
   "id": "60a489c0",
   "metadata": {},
   "source": [
    "#### 5- Staff per Day: This indicates the number of agents handling calls on a daily basis."
   ]
  },
  {
   "cell_type": "markdown",
   "id": "3ccca221",
   "metadata": {},
   "source": [
    "### Step 1 : Import the dataset"
   ]
  },
  {
   "cell_type": "code",
   "execution_count": 2,
   "id": "46b2aa3d",
   "metadata": {},
   "outputs": [
    {
     "data": {
      "text/plain": [
       "(700, 7)"
      ]
     },
     "execution_count": 2,
     "metadata": {},
     "output_type": "execute_result"
    }
   ],
   "source": [
    "import pandas as pd\n",
    "import matplotlib.pyplot as plt\n",
    "file_path=r\"C:\\Users\\afef.jebali\\OneDrive - TUI\\Desktop\\Training Course\\Exercice 01\\Call center reports.csv\"\n",
    "df=pd.read_csv(file_path)\n",
    "df.shape"
   ]
  },
  {
   "cell_type": "markdown",
   "id": "5d2d0076",
   "metadata": {},
   "source": [
    "### Step 2 : Explore the dataset"
   ]
  },
  {
   "cell_type": "code",
   "execution_count": 3,
   "id": "c319f56c",
   "metadata": {},
   "outputs": [
    {
     "data": {
      "text/html": [
       "<div>\n",
       "<style scoped>\n",
       "    .dataframe tbody tr th:only-of-type {\n",
       "        vertical-align: middle;\n",
       "    }\n",
       "\n",
       "    .dataframe tbody tr th {\n",
       "        vertical-align: top;\n",
       "    }\n",
       "\n",
       "    .dataframe thead th {\n",
       "        text-align: right;\n",
       "    }\n",
       "</style>\n",
       "<table border=\"1\" class=\"dataframe\">\n",
       "  <thead>\n",
       "    <tr style=\"text-align: right;\">\n",
       "      <th></th>\n",
       "      <th>date</th>\n",
       "      <th>Received calls</th>\n",
       "      <th>Answered calls2</th>\n",
       "      <th>Picked up Ratio</th>\n",
       "      <th>Service required</th>\n",
       "      <th>Dunning letters</th>\n",
       "      <th>Staff per day</th>\n",
       "    </tr>\n",
       "  </thead>\n",
       "  <tbody>\n",
       "    <tr>\n",
       "      <th>0</th>\n",
       "      <td>Thursday, February 4, 2021</td>\n",
       "      <td>216.0</td>\n",
       "      <td>91.5</td>\n",
       "      <td>42%</td>\n",
       "      <td>70%</td>\n",
       "      <td>0.0</td>\n",
       "      <td>0.0</td>\n",
       "    </tr>\n",
       "    <tr>\n",
       "      <th>1</th>\n",
       "      <td>Friday, February 5, 2021</td>\n",
       "      <td>214.5</td>\n",
       "      <td>126.0</td>\n",
       "      <td>59%</td>\n",
       "      <td>70%</td>\n",
       "      <td>0.0</td>\n",
       "      <td>0.0</td>\n",
       "    </tr>\n",
       "    <tr>\n",
       "      <th>2</th>\n",
       "      <td>Monday, February 8, 2021</td>\n",
       "      <td>171.0</td>\n",
       "      <td>112.5</td>\n",
       "      <td>66%</td>\n",
       "      <td>70%</td>\n",
       "      <td>0.0</td>\n",
       "      <td>0.0</td>\n",
       "    </tr>\n",
       "    <tr>\n",
       "      <th>3</th>\n",
       "      <td>Tuesday, February 9, 2021</td>\n",
       "      <td>163.5</td>\n",
       "      <td>105.0</td>\n",
       "      <td>64%</td>\n",
       "      <td>70%</td>\n",
       "      <td>0.0</td>\n",
       "      <td>0.0</td>\n",
       "    </tr>\n",
       "    <tr>\n",
       "      <th>4</th>\n",
       "      <td>Wednesday, February 10, 2021</td>\n",
       "      <td>132.0</td>\n",
       "      <td>117.0</td>\n",
       "      <td>89%</td>\n",
       "      <td>70%</td>\n",
       "      <td>0.0</td>\n",
       "      <td>0.0</td>\n",
       "    </tr>\n",
       "    <tr>\n",
       "      <th>5</th>\n",
       "      <td>Thursday, February 11, 2021</td>\n",
       "      <td>138.0</td>\n",
       "      <td>106.5</td>\n",
       "      <td>77%</td>\n",
       "      <td>70%</td>\n",
       "      <td>0.0</td>\n",
       "      <td>0.0</td>\n",
       "    </tr>\n",
       "    <tr>\n",
       "      <th>6</th>\n",
       "      <td>Friday, February 12, 2021</td>\n",
       "      <td>144.0</td>\n",
       "      <td>97.5</td>\n",
       "      <td>68%</td>\n",
       "      <td>70%</td>\n",
       "      <td>0.0</td>\n",
       "      <td>0.0</td>\n",
       "    </tr>\n",
       "    <tr>\n",
       "      <th>7</th>\n",
       "      <td>Thursday, February 18, 2021</td>\n",
       "      <td>148.5</td>\n",
       "      <td>103.5</td>\n",
       "      <td>70%</td>\n",
       "      <td>70%</td>\n",
       "      <td>0.0</td>\n",
       "      <td>0.0</td>\n",
       "    </tr>\n",
       "    <tr>\n",
       "      <th>8</th>\n",
       "      <td>Friday, February 19, 2021</td>\n",
       "      <td>123.0</td>\n",
       "      <td>79.5</td>\n",
       "      <td>65%</td>\n",
       "      <td>70%</td>\n",
       "      <td>0.0</td>\n",
       "      <td>0.0</td>\n",
       "    </tr>\n",
       "    <tr>\n",
       "      <th>9</th>\n",
       "      <td>Monday, February 22, 2021</td>\n",
       "      <td>217.5</td>\n",
       "      <td>111.0</td>\n",
       "      <td>51%</td>\n",
       "      <td>70%</td>\n",
       "      <td>0.0</td>\n",
       "      <td>0.0</td>\n",
       "    </tr>\n",
       "  </tbody>\n",
       "</table>\n",
       "</div>"
      ],
      "text/plain": [
       "                          date   Received calls  Answered calls2  \\\n",
       "0    Thursday, February 4, 2021           216.0             91.5   \n",
       "1      Friday, February 5, 2021           214.5            126.0   \n",
       "2      Monday, February 8, 2021           171.0            112.5   \n",
       "3     Tuesday, February 9, 2021           163.5            105.0   \n",
       "4  Wednesday, February 10, 2021           132.0            117.0   \n",
       "5   Thursday, February 11, 2021           138.0            106.5   \n",
       "6     Friday, February 12, 2021           144.0             97.5   \n",
       "7   Thursday, February 18, 2021           148.5            103.5   \n",
       "8     Friday, February 19, 2021           123.0             79.5   \n",
       "9     Monday, February 22, 2021           217.5            111.0   \n",
       "\n",
       "  Picked up Ratio Service required  Dunning letters  Staff per day  \n",
       "0             42%              70%              0.0            0.0  \n",
       "1             59%              70%              0.0            0.0  \n",
       "2             66%              70%              0.0            0.0  \n",
       "3             64%              70%              0.0            0.0  \n",
       "4             89%              70%              0.0            0.0  \n",
       "5             77%              70%              0.0            0.0  \n",
       "6             68%              70%              0.0            0.0  \n",
       "7             70%              70%              0.0            0.0  \n",
       "8             65%              70%              0.0            0.0  \n",
       "9             51%              70%              0.0            0.0  "
      ]
     },
     "execution_count": 3,
     "metadata": {},
     "output_type": "execute_result"
    }
   ],
   "source": [
    "#info about last 10 raws in the data set\n",
    "df.head(10)"
   ]
  },
  {
   "cell_type": "code",
   "execution_count": 4,
   "id": "f8b3ab4d",
   "metadata": {},
   "outputs": [
    {
     "data": {
      "text/plain": [
       "date                 object\n",
       "Received calls      float64\n",
       "Answered calls2     float64\n",
       "Picked up Ratio      object\n",
       "Service required     object\n",
       "Dunning letters     float64\n",
       "Staff per day       float64\n",
       "dtype: object"
      ]
     },
     "execution_count": 4,
     "metadata": {},
     "output_type": "execute_result"
    }
   ],
   "source": [
    "df.dtypes"
   ]
  },
  {
   "cell_type": "code",
   "execution_count": 5,
   "id": "566167cd",
   "metadata": {},
   "outputs": [
    {
     "name": "stdout",
     "output_type": "stream",
     "text": [
      "<class 'pandas.core.frame.DataFrame'>\n",
      "RangeIndex: 700 entries, 0 to 699\n",
      "Data columns (total 7 columns):\n",
      " #   Column            Non-Null Count  Dtype  \n",
      "---  ------            --------------  -----  \n",
      " 0   date              700 non-null    object \n",
      " 1   Received calls    700 non-null    float64\n",
      " 2   Answered calls2   700 non-null    float64\n",
      " 3   Picked up Ratio   700 non-null    object \n",
      " 4   Service required  700 non-null    object \n",
      " 5   Dunning letters   700 non-null    float64\n",
      " 6   Staff per day     700 non-null    float64\n",
      "dtypes: float64(4), object(3)\n",
      "memory usage: 38.4+ KB\n"
     ]
    }
   ],
   "source": [
    "df.info()"
   ]
  },
  {
   "cell_type": "code",
   "execution_count": 6,
   "id": "d617c2bb",
   "metadata": {},
   "outputs": [
    {
     "data": {
      "text/plain": [
       "Index(['date ', 'Received calls', 'Answered calls2', 'Picked up Ratio',\n",
       "       'Service required', 'Dunning letters', 'Staff per day'],\n",
       "      dtype='object')"
      ]
     },
     "execution_count": 6,
     "metadata": {},
     "output_type": "execute_result"
    }
   ],
   "source": [
    "df.columns"
   ]
  },
  {
   "cell_type": "markdown",
   "id": "252b35a6",
   "metadata": {},
   "source": [
    "### Step 3 : preprocess the dataset"
   ]
  },
  {
   "cell_type": "markdown",
   "id": "546072a5",
   "metadata": {},
   "source": [
    "##### Because I have Zeros values in my data I decided in the step below tocalculate the mean for both columns 'Dunning letters' and 'Staff per day' and replace the zeros values in my data with the result."
   ]
  },
  {
   "cell_type": "markdown",
   "id": "9ad03e32",
   "metadata": {},
   "source": [
    "###### Handling Missing Values"
   ]
  },
  {
   "cell_type": "code",
   "execution_count": 7,
   "id": "54f3acdc",
   "metadata": {},
   "outputs": [
    {
     "name": "stdout",
     "output_type": "stream",
     "text": [
      "Mean: 9.495514285714286\n"
     ]
    }
   ],
   "source": [
    "df['Staff per day'].fillna(df['Staff per day'].mean(), inplace=True)\n",
    "print(\"Mean:\", df['Staff per day'].mean())"
   ]
  },
  {
   "cell_type": "code",
   "execution_count": 8,
   "id": "0fab070f",
   "metadata": {},
   "outputs": [
    {
     "name": "stdout",
     "output_type": "stream",
     "text": [
      "Mean: 843.7692857142857\n"
     ]
    }
   ],
   "source": [
    "df['Dunning letters'].fillna(df['Dunning letters'].mean(), inplace=True)\n",
    "print(\"Mean:\", df['Dunning letters'].mean())"
   ]
  },
  {
   "cell_type": "markdown",
   "id": "403e05ca",
   "metadata": {},
   "source": [
    "#### Replace missing values with mean"
   ]
  },
  {
   "cell_type": "code",
   "execution_count": 9,
   "id": "c48b1ee2",
   "metadata": {},
   "outputs": [
    {
     "name": "stdout",
     "output_type": "stream",
     "text": [
      "                            date   Received calls  Answered calls2  \\\n",
      "0      Thursday, February 4, 2021           216.0             91.5   \n",
      "1        Friday, February 5, 2021           214.5            126.0   \n",
      "2        Monday, February 8, 2021           171.0            112.5   \n",
      "3       Tuesday, February 9, 2021           163.5            105.0   \n",
      "4    Wednesday, February 10, 2021           132.0            117.0   \n",
      "..                            ...             ...              ...   \n",
      "695      Friday, November 3, 2023           774.0            762.0   \n",
      "696      Monday, November 6, 2023           901.5            892.5   \n",
      "697     Tuesday, November 7, 2023           715.5            709.5   \n",
      "698   Wednesday, November 8, 2023           699.0            688.5   \n",
      "699    Thursday, November 9, 2023           703.5            703.5   \n",
      "\n",
      "    Picked up Ratio Service required  Dunning letters  Staff per day  \n",
      "0               42%              70%       843.769286          0.000  \n",
      "1               59%              70%       843.769286          0.000  \n",
      "2               66%              70%       843.769286          0.000  \n",
      "3               64%              70%       843.769286          0.000  \n",
      "4               89%              70%       843.769286          0.000  \n",
      "..              ...              ...              ...            ...  \n",
      "695             98%              70%      1030.500000         44.175  \n",
      "696             99%              70%      1776.000000         40.395  \n",
      "697             99%              70%      1324.500000         33.615  \n",
      "698             98%              70%       955.500000         31.080  \n",
      "699            100%              70%      1135.500000         33.390  \n",
      "\n",
      "[700 rows x 7 columns]\n"
     ]
    }
   ],
   "source": [
    "df['Dunning letters'].replace(0, 843.7692857142857, inplace=True)\n",
    "print(df)"
   ]
  },
  {
   "cell_type": "code",
   "execution_count": 10,
   "id": "13b16f32",
   "metadata": {},
   "outputs": [
    {
     "name": "stdout",
     "output_type": "stream",
     "text": [
      "                            date   Received calls  Answered calls2  \\\n",
      "0      Thursday, February 4, 2021           216.0             91.5   \n",
      "1        Friday, February 5, 2021           214.5            126.0   \n",
      "2        Monday, February 8, 2021           171.0            112.5   \n",
      "3       Tuesday, February 9, 2021           163.5            105.0   \n",
      "4    Wednesday, February 10, 2021           132.0            117.0   \n",
      "..                            ...             ...              ...   \n",
      "695      Friday, November 3, 2023           774.0            762.0   \n",
      "696      Monday, November 6, 2023           901.5            892.5   \n",
      "697     Tuesday, November 7, 2023           715.5            709.5   \n",
      "698   Wednesday, November 8, 2023           699.0            688.5   \n",
      "699    Thursday, November 9, 2023           703.5            703.5   \n",
      "\n",
      "    Picked up Ratio Service required  Dunning letters  Staff per day  \n",
      "0               42%              70%       843.769286       9.495514  \n",
      "1               59%              70%       843.769286       9.495514  \n",
      "2               66%              70%       843.769286       9.495514  \n",
      "3               64%              70%       843.769286       9.495514  \n",
      "4               89%              70%       843.769286       9.495514  \n",
      "..              ...              ...              ...            ...  \n",
      "695             98%              70%      1030.500000      44.175000  \n",
      "696             99%              70%      1776.000000      40.395000  \n",
      "697             99%              70%      1324.500000      33.615000  \n",
      "698             98%              70%       955.500000      31.080000  \n",
      "699            100%              70%      1135.500000      33.390000  \n",
      "\n",
      "[700 rows x 7 columns]\n"
     ]
    }
   ],
   "source": [
    "df['Staff per day'].replace(0, 9.495514285714286, inplace=True)\n",
    "print(df)"
   ]
  },
  {
   "cell_type": "code",
   "execution_count": 11,
   "id": "4986f784",
   "metadata": {},
   "outputs": [
    {
     "data": {
      "text/html": [
       "<div>\n",
       "<style scoped>\n",
       "    .dataframe tbody tr th:only-of-type {\n",
       "        vertical-align: middle;\n",
       "    }\n",
       "\n",
       "    .dataframe tbody tr th {\n",
       "        vertical-align: top;\n",
       "    }\n",
       "\n",
       "    .dataframe thead th {\n",
       "        text-align: right;\n",
       "    }\n",
       "</style>\n",
       "<table border=\"1\" class=\"dataframe\">\n",
       "  <thead>\n",
       "    <tr style=\"text-align: right;\">\n",
       "      <th></th>\n",
       "      <th>date</th>\n",
       "      <th>Received calls</th>\n",
       "      <th>Answered calls2</th>\n",
       "      <th>Picked up Ratio</th>\n",
       "      <th>Service required</th>\n",
       "      <th>Dunning letters</th>\n",
       "      <th>Staff per day</th>\n",
       "    </tr>\n",
       "  </thead>\n",
       "  <tbody>\n",
       "    <tr>\n",
       "      <th>0</th>\n",
       "      <td>Thursday, February 4, 2021</td>\n",
       "      <td>216.0</td>\n",
       "      <td>91.5</td>\n",
       "      <td>42%</td>\n",
       "      <td>70%</td>\n",
       "      <td>843.769286</td>\n",
       "      <td>9.495514</td>\n",
       "    </tr>\n",
       "    <tr>\n",
       "      <th>1</th>\n",
       "      <td>Friday, February 5, 2021</td>\n",
       "      <td>214.5</td>\n",
       "      <td>126.0</td>\n",
       "      <td>59%</td>\n",
       "      <td>70%</td>\n",
       "      <td>843.769286</td>\n",
       "      <td>9.495514</td>\n",
       "    </tr>\n",
       "    <tr>\n",
       "      <th>2</th>\n",
       "      <td>Monday, February 8, 2021</td>\n",
       "      <td>171.0</td>\n",
       "      <td>112.5</td>\n",
       "      <td>66%</td>\n",
       "      <td>70%</td>\n",
       "      <td>843.769286</td>\n",
       "      <td>9.495514</td>\n",
       "    </tr>\n",
       "    <tr>\n",
       "      <th>3</th>\n",
       "      <td>Tuesday, February 9, 2021</td>\n",
       "      <td>163.5</td>\n",
       "      <td>105.0</td>\n",
       "      <td>64%</td>\n",
       "      <td>70%</td>\n",
       "      <td>843.769286</td>\n",
       "      <td>9.495514</td>\n",
       "    </tr>\n",
       "    <tr>\n",
       "      <th>4</th>\n",
       "      <td>Wednesday, February 10, 2021</td>\n",
       "      <td>132.0</td>\n",
       "      <td>117.0</td>\n",
       "      <td>89%</td>\n",
       "      <td>70%</td>\n",
       "      <td>843.769286</td>\n",
       "      <td>9.495514</td>\n",
       "    </tr>\n",
       "    <tr>\n",
       "      <th>5</th>\n",
       "      <td>Thursday, February 11, 2021</td>\n",
       "      <td>138.0</td>\n",
       "      <td>106.5</td>\n",
       "      <td>77%</td>\n",
       "      <td>70%</td>\n",
       "      <td>843.769286</td>\n",
       "      <td>9.495514</td>\n",
       "    </tr>\n",
       "    <tr>\n",
       "      <th>6</th>\n",
       "      <td>Friday, February 12, 2021</td>\n",
       "      <td>144.0</td>\n",
       "      <td>97.5</td>\n",
       "      <td>68%</td>\n",
       "      <td>70%</td>\n",
       "      <td>843.769286</td>\n",
       "      <td>9.495514</td>\n",
       "    </tr>\n",
       "    <tr>\n",
       "      <th>7</th>\n",
       "      <td>Thursday, February 18, 2021</td>\n",
       "      <td>148.5</td>\n",
       "      <td>103.5</td>\n",
       "      <td>70%</td>\n",
       "      <td>70%</td>\n",
       "      <td>843.769286</td>\n",
       "      <td>9.495514</td>\n",
       "    </tr>\n",
       "    <tr>\n",
       "      <th>8</th>\n",
       "      <td>Friday, February 19, 2021</td>\n",
       "      <td>123.0</td>\n",
       "      <td>79.5</td>\n",
       "      <td>65%</td>\n",
       "      <td>70%</td>\n",
       "      <td>843.769286</td>\n",
       "      <td>9.495514</td>\n",
       "    </tr>\n",
       "    <tr>\n",
       "      <th>9</th>\n",
       "      <td>Monday, February 22, 2021</td>\n",
       "      <td>217.5</td>\n",
       "      <td>111.0</td>\n",
       "      <td>51%</td>\n",
       "      <td>70%</td>\n",
       "      <td>843.769286</td>\n",
       "      <td>9.495514</td>\n",
       "    </tr>\n",
       "  </tbody>\n",
       "</table>\n",
       "</div>"
      ],
      "text/plain": [
       "                          date   Received calls  Answered calls2  \\\n",
       "0    Thursday, February 4, 2021           216.0             91.5   \n",
       "1      Friday, February 5, 2021           214.5            126.0   \n",
       "2      Monday, February 8, 2021           171.0            112.5   \n",
       "3     Tuesday, February 9, 2021           163.5            105.0   \n",
       "4  Wednesday, February 10, 2021           132.0            117.0   \n",
       "5   Thursday, February 11, 2021           138.0            106.5   \n",
       "6     Friday, February 12, 2021           144.0             97.5   \n",
       "7   Thursday, February 18, 2021           148.5            103.5   \n",
       "8     Friday, February 19, 2021           123.0             79.5   \n",
       "9     Monday, February 22, 2021           217.5            111.0   \n",
       "\n",
       "  Picked up Ratio Service required  Dunning letters  Staff per day  \n",
       "0             42%              70%       843.769286       9.495514  \n",
       "1             59%              70%       843.769286       9.495514  \n",
       "2             66%              70%       843.769286       9.495514  \n",
       "3             64%              70%       843.769286       9.495514  \n",
       "4             89%              70%       843.769286       9.495514  \n",
       "5             77%              70%       843.769286       9.495514  \n",
       "6             68%              70%       843.769286       9.495514  \n",
       "7             70%              70%       843.769286       9.495514  \n",
       "8             65%              70%       843.769286       9.495514  \n",
       "9             51%              70%       843.769286       9.495514  "
      ]
     },
     "execution_count": 11,
     "metadata": {},
     "output_type": "execute_result"
    }
   ],
   "source": [
    "df.head(10)"
   ]
  },
  {
   "cell_type": "markdown",
   "id": "4bc76dbe",
   "metadata": {},
   "source": [
    "###### Round the float values in the \"Dunning letters\" and \"Staff per day\" columns"
   ]
  },
  {
   "cell_type": "code",
   "execution_count": 12,
   "id": "1138571f",
   "metadata": {},
   "outputs": [
    {
     "data": {
      "text/html": [
       "<div>\n",
       "<style scoped>\n",
       "    .dataframe tbody tr th:only-of-type {\n",
       "        vertical-align: middle;\n",
       "    }\n",
       "\n",
       "    .dataframe tbody tr th {\n",
       "        vertical-align: top;\n",
       "    }\n",
       "\n",
       "    .dataframe thead th {\n",
       "        text-align: right;\n",
       "    }\n",
       "</style>\n",
       "<table border=\"1\" class=\"dataframe\">\n",
       "  <thead>\n",
       "    <tr style=\"text-align: right;\">\n",
       "      <th></th>\n",
       "      <th>date</th>\n",
       "      <th>Received calls</th>\n",
       "      <th>Answered calls2</th>\n",
       "      <th>Picked up Ratio</th>\n",
       "      <th>Service required</th>\n",
       "      <th>Dunning letters</th>\n",
       "      <th>Staff per day</th>\n",
       "    </tr>\n",
       "  </thead>\n",
       "  <tbody>\n",
       "    <tr>\n",
       "      <th>0</th>\n",
       "      <td>Thursday, February 4, 2021</td>\n",
       "      <td>216.0</td>\n",
       "      <td>91.5</td>\n",
       "      <td>42%</td>\n",
       "      <td>70%</td>\n",
       "      <td>844.0</td>\n",
       "      <td>9.0</td>\n",
       "    </tr>\n",
       "    <tr>\n",
       "      <th>1</th>\n",
       "      <td>Friday, February 5, 2021</td>\n",
       "      <td>214.5</td>\n",
       "      <td>126.0</td>\n",
       "      <td>59%</td>\n",
       "      <td>70%</td>\n",
       "      <td>844.0</td>\n",
       "      <td>9.0</td>\n",
       "    </tr>\n",
       "    <tr>\n",
       "      <th>2</th>\n",
       "      <td>Monday, February 8, 2021</td>\n",
       "      <td>171.0</td>\n",
       "      <td>112.5</td>\n",
       "      <td>66%</td>\n",
       "      <td>70%</td>\n",
       "      <td>844.0</td>\n",
       "      <td>9.0</td>\n",
       "    </tr>\n",
       "    <tr>\n",
       "      <th>3</th>\n",
       "      <td>Tuesday, February 9, 2021</td>\n",
       "      <td>163.5</td>\n",
       "      <td>105.0</td>\n",
       "      <td>64%</td>\n",
       "      <td>70%</td>\n",
       "      <td>844.0</td>\n",
       "      <td>9.0</td>\n",
       "    </tr>\n",
       "    <tr>\n",
       "      <th>4</th>\n",
       "      <td>Wednesday, February 10, 2021</td>\n",
       "      <td>132.0</td>\n",
       "      <td>117.0</td>\n",
       "      <td>89%</td>\n",
       "      <td>70%</td>\n",
       "      <td>844.0</td>\n",
       "      <td>9.0</td>\n",
       "    </tr>\n",
       "    <tr>\n",
       "      <th>...</th>\n",
       "      <td>...</td>\n",
       "      <td>...</td>\n",
       "      <td>...</td>\n",
       "      <td>...</td>\n",
       "      <td>...</td>\n",
       "      <td>...</td>\n",
       "      <td>...</td>\n",
       "    </tr>\n",
       "    <tr>\n",
       "      <th>695</th>\n",
       "      <td>Friday, November 3, 2023</td>\n",
       "      <td>774.0</td>\n",
       "      <td>762.0</td>\n",
       "      <td>98%</td>\n",
       "      <td>70%</td>\n",
       "      <td>1030.0</td>\n",
       "      <td>44.0</td>\n",
       "    </tr>\n",
       "    <tr>\n",
       "      <th>696</th>\n",
       "      <td>Monday, November 6, 2023</td>\n",
       "      <td>901.5</td>\n",
       "      <td>892.5</td>\n",
       "      <td>99%</td>\n",
       "      <td>70%</td>\n",
       "      <td>1776.0</td>\n",
       "      <td>40.0</td>\n",
       "    </tr>\n",
       "    <tr>\n",
       "      <th>697</th>\n",
       "      <td>Tuesday, November 7, 2023</td>\n",
       "      <td>715.5</td>\n",
       "      <td>709.5</td>\n",
       "      <td>99%</td>\n",
       "      <td>70%</td>\n",
       "      <td>1324.0</td>\n",
       "      <td>34.0</td>\n",
       "    </tr>\n",
       "    <tr>\n",
       "      <th>698</th>\n",
       "      <td>Wednesday, November 8, 2023</td>\n",
       "      <td>699.0</td>\n",
       "      <td>688.5</td>\n",
       "      <td>98%</td>\n",
       "      <td>70%</td>\n",
       "      <td>956.0</td>\n",
       "      <td>31.0</td>\n",
       "    </tr>\n",
       "    <tr>\n",
       "      <th>699</th>\n",
       "      <td>Thursday, November 9, 2023</td>\n",
       "      <td>703.5</td>\n",
       "      <td>703.5</td>\n",
       "      <td>100%</td>\n",
       "      <td>70%</td>\n",
       "      <td>1136.0</td>\n",
       "      <td>33.0</td>\n",
       "    </tr>\n",
       "  </tbody>\n",
       "</table>\n",
       "<p>700 rows × 7 columns</p>\n",
       "</div>"
      ],
      "text/plain": [
       "                            date   Received calls  Answered calls2  \\\n",
       "0      Thursday, February 4, 2021           216.0             91.5   \n",
       "1        Friday, February 5, 2021           214.5            126.0   \n",
       "2        Monday, February 8, 2021           171.0            112.5   \n",
       "3       Tuesday, February 9, 2021           163.5            105.0   \n",
       "4    Wednesday, February 10, 2021           132.0            117.0   \n",
       "..                            ...             ...              ...   \n",
       "695      Friday, November 3, 2023           774.0            762.0   \n",
       "696      Monday, November 6, 2023           901.5            892.5   \n",
       "697     Tuesday, November 7, 2023           715.5            709.5   \n",
       "698   Wednesday, November 8, 2023           699.0            688.5   \n",
       "699    Thursday, November 9, 2023           703.5            703.5   \n",
       "\n",
       "    Picked up Ratio Service required  Dunning letters  Staff per day  \n",
       "0               42%              70%            844.0            9.0  \n",
       "1               59%              70%            844.0            9.0  \n",
       "2               66%              70%            844.0            9.0  \n",
       "3               64%              70%            844.0            9.0  \n",
       "4               89%              70%            844.0            9.0  \n",
       "..              ...              ...              ...            ...  \n",
       "695             98%              70%           1030.0           44.0  \n",
       "696             99%              70%           1776.0           40.0  \n",
       "697             99%              70%           1324.0           34.0  \n",
       "698             98%              70%            956.0           31.0  \n",
       "699            100%              70%           1136.0           33.0  \n",
       "\n",
       "[700 rows x 7 columns]"
      ]
     },
     "execution_count": 12,
     "metadata": {},
     "output_type": "execute_result"
    }
   ],
   "source": [
    "df['Dunning letters'] = df['Dunning letters'].round()\n",
    "df['Staff per day'] = df['Staff per day'].round()\n",
    "df"
   ]
  }
 ],
 "metadata": {
  "kernelspec": {
   "display_name": "Python 3 (ipykernel)",
   "language": "python",
   "name": "python3"
  },
  "language_info": {
   "codemirror_mode": {
    "name": "ipython",
    "version": 3
   },
   "file_extension": ".py",
   "mimetype": "text/x-python",
   "name": "python",
   "nbconvert_exporter": "python",
   "pygments_lexer": "ipython3",
   "version": "3.11.4"
  }
 },
 "nbformat": 4,
 "nbformat_minor": 5
}
