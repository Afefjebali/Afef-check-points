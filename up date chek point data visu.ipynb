{
 "cells": [
  {
   "cell_type": "code",
   "execution_count": 1,
   "id": "261c06f4",
   "metadata": {},
   "outputs": [
    {
     "data": {
      "text/html": [
       "<div>\n",
       "<style scoped>\n",
       "    .dataframe tbody tr th:only-of-type {\n",
       "        vertical-align: middle;\n",
       "    }\n",
       "\n",
       "    .dataframe tbody tr th {\n",
       "        vertical-align: top;\n",
       "    }\n",
       "\n",
       "    .dataframe thead th {\n",
       "        text-align: right;\n",
       "    }\n",
       "</style>\n",
       "<table border=\"1\" class=\"dataframe\">\n",
       "  <thead>\n",
       "    <tr style=\"text-align: right;\">\n",
       "      <th></th>\n",
       "      <th>Rank</th>\n",
       "      <th>Name</th>\n",
       "      <th>Platform</th>\n",
       "      <th>Year</th>\n",
       "      <th>Genre</th>\n",
       "      <th>Publisher</th>\n",
       "      <th>NA_Sales</th>\n",
       "      <th>EU_Sales</th>\n",
       "      <th>JP_Sales</th>\n",
       "      <th>Other_Sales</th>\n",
       "      <th>Global_Sales</th>\n",
       "    </tr>\n",
       "  </thead>\n",
       "  <tbody>\n",
       "    <tr>\n",
       "      <th>0</th>\n",
       "      <td>1</td>\n",
       "      <td>Wii Sports</td>\n",
       "      <td>Wii</td>\n",
       "      <td>2006.0</td>\n",
       "      <td>Sports</td>\n",
       "      <td>Nintendo</td>\n",
       "      <td>41.49</td>\n",
       "      <td>29.02</td>\n",
       "      <td>3.77</td>\n",
       "      <td>8.46</td>\n",
       "      <td>82.74</td>\n",
       "    </tr>\n",
       "    <tr>\n",
       "      <th>1</th>\n",
       "      <td>2</td>\n",
       "      <td>Super Mario Bros.</td>\n",
       "      <td>NES</td>\n",
       "      <td>1985.0</td>\n",
       "      <td>Platform</td>\n",
       "      <td>Nintendo</td>\n",
       "      <td>29.08</td>\n",
       "      <td>3.58</td>\n",
       "      <td>6.81</td>\n",
       "      <td>0.77</td>\n",
       "      <td>40.24</td>\n",
       "    </tr>\n",
       "    <tr>\n",
       "      <th>2</th>\n",
       "      <td>3</td>\n",
       "      <td>Mario Kart Wii</td>\n",
       "      <td>Wii</td>\n",
       "      <td>2008.0</td>\n",
       "      <td>Racing</td>\n",
       "      <td>Nintendo</td>\n",
       "      <td>15.85</td>\n",
       "      <td>12.88</td>\n",
       "      <td>3.79</td>\n",
       "      <td>3.31</td>\n",
       "      <td>35.82</td>\n",
       "    </tr>\n",
       "    <tr>\n",
       "      <th>3</th>\n",
       "      <td>4</td>\n",
       "      <td>Wii Sports Resort</td>\n",
       "      <td>Wii</td>\n",
       "      <td>2009.0</td>\n",
       "      <td>Sports</td>\n",
       "      <td>Nintendo</td>\n",
       "      <td>15.75</td>\n",
       "      <td>11.01</td>\n",
       "      <td>3.28</td>\n",
       "      <td>2.96</td>\n",
       "      <td>33.00</td>\n",
       "    </tr>\n",
       "    <tr>\n",
       "      <th>4</th>\n",
       "      <td>5</td>\n",
       "      <td>Pokemon Red/Pokemon Blue</td>\n",
       "      <td>GB</td>\n",
       "      <td>1996.0</td>\n",
       "      <td>Role-Playing</td>\n",
       "      <td>Nintendo</td>\n",
       "      <td>11.27</td>\n",
       "      <td>8.89</td>\n",
       "      <td>10.22</td>\n",
       "      <td>1.00</td>\n",
       "      <td>31.37</td>\n",
       "    </tr>\n",
       "  </tbody>\n",
       "</table>\n",
       "</div>"
      ],
      "text/plain": [
       "   Rank                      Name Platform    Year         Genre Publisher  \\\n",
       "0     1                Wii Sports      Wii  2006.0        Sports  Nintendo   \n",
       "1     2         Super Mario Bros.      NES  1985.0      Platform  Nintendo   \n",
       "2     3            Mario Kart Wii      Wii  2008.0        Racing  Nintendo   \n",
       "3     4         Wii Sports Resort      Wii  2009.0        Sports  Nintendo   \n",
       "4     5  Pokemon Red/Pokemon Blue       GB  1996.0  Role-Playing  Nintendo   \n",
       "\n",
       "   NA_Sales  EU_Sales  JP_Sales  Other_Sales  Global_Sales  \n",
       "0     41.49     29.02      3.77         8.46         82.74  \n",
       "1     29.08      3.58      6.81         0.77         40.24  \n",
       "2     15.85     12.88      3.79         3.31         35.82  \n",
       "3     15.75     11.01      3.28         2.96         33.00  \n",
       "4     11.27      8.89     10.22         1.00         31.37  "
      ]
     },
     "execution_count": 1,
     "metadata": {},
     "output_type": "execute_result"
    }
   ],
   "source": [
    "#Q1: Load the dataset into a data frame using Python\n",
    "import pandas as pd\n",
    "import plotly.express as px\n",
    "file_path=r\"C:\\Users\\afef.jebali\\OneDrive - TUI\\Desktop\\Exercice 01\\Video games.csv\"\n",
    "df=pd.read_csv(file_path)\n",
    "df.head()"
   ]
  },
  {
   "cell_type": "code",
   "execution_count": null,
   "id": "550054e2",
   "metadata": {},
   "outputs": [],
   "source": [
    "#Q2: Clean the data as needed \n",
    "df.dropna(inplace=True)\n",
    "df.drop_duplicates(inplace=True)\n",
    "df[\"Year\"] = pd.to_datetime(df[\"Year\"], format=\"%Y\")\n",
    "df[\"Year\"] = df[\"Year\"].dt.year\n",
    "df.to_csv('cleaned_data.csv', index=False)\n",
    "df.head()"
   ]
  },
  {
   "cell_type": "code",
   "execution_count": null,
   "id": "901fcc82",
   "metadata": {},
   "outputs": [],
   "source": [
    "#Q3:Create an area chart to show the trend of global sales over the years.\n",
    "fig = px.area(df, x=\"Year\", y=\"Global_Sales\")\n",
    "fig.show()"
   ]
  },
  {
   "cell_type": "code",
   "execution_count": null,
   "id": "b9a73ca7",
   "metadata": {},
   "outputs": [],
   "source": [
    "#Q4: Create a histogram to show the distribution of global sales.\n",
    "fig = px.histogram(df, x=\"Global_Sales\", nbins=15)\n",
    "fig.show()"
   ]
  },
  {
   "cell_type": "code",
   "execution_count": null,
   "id": "31c60a17",
   "metadata": {},
   "outputs": [],
   "source": [
    "#Q5: Create a scatter plot to show the relationship between North American sales and European sales.\n",
    "import plotly.express as px\n",
    "fig = px.scatter(x=df[\"NA_Sales\"], y=df[\"EU_Sales\"])\n",
    "fig.show()"
   ]
  },
  {
   "cell_type": "code",
   "execution_count": null,
   "id": "a38aebeb",
   "metadata": {},
   "outputs": [],
   "source": [
    "#Q6: Create a scatter plot to show the relationship between Japanese sales and Other sales.\n",
    "import plotly.express as px\n",
    "fig = px.scatter(x=df[\"JP_Sales\"], y=df[\"Other_Sales\"])\n",
    "fig.show()"
   ]
  },
  {
   "cell_type": "code",
   "execution_count": null,
   "id": "9c11463a",
   "metadata": {},
   "outputs": [],
   "source": [
    "#Q7: Create a stacked area chart to show the distribution of sales by platform over the years.\n",
    "import plotly.express as px\n",
    "import pandas as pd\n",
    "df = df.set_index(\"Year\").stack().reset_index().rename(columns={\"level_1\":\"Global_Sales\", 0:\"Platform\"})\n",
    "fig = px.area(df, x='Year', y=\"Platform\", color=\"Platform\")\n",
    "fig.show()"
   ]
  },
  {
   "cell_type": "code",
   "execution_count": null,
   "id": "8f905f29",
   "metadata": {},
   "outputs": [],
   "source": [
    "#Q8: Create a bar chart to show the top 10 publishers by global sales\n",
    "import pandas as pd\n",
    "import plotly.express as px\n",
    "file_path=r\"C:\\Users\\afef.jebali\\OneDrive - TUI\\Desktop\\Exercice 01\\Video games.csv\"\n",
    "df=pd.read_csv(file_path)\n",
    "# Group the data by publisher and sum the sales for each publisher\n",
    "publisher_sales = df.groupby('Publisher')['Global_Sales'].sum().reset_index()\n",
    "\n",
    "# Sort the data by sales in descending order\n",
    "sorted_publishers = publisher_sales.sort_values(by='Global_Sales', ascending=False)\n",
    "\n",
    "# Get the top 10 publishers\n",
    "top_10_publishers = sorted_publishers.head(10)\n",
    "\n",
    "# Display the top 10 publishers\n",
    "print(top_10_publishers)"
   ]
  },
  {
   "cell_type": "code",
   "execution_count": null,
   "id": "cb9adcfd",
   "metadata": {},
   "outputs": [],
   "source": [
    "fig=px.bar(sorted_publishers.head(10), x=\"Publisher\", y=\"Global_Sales\")\n",
    "fig.show()"
   ]
  },
  {
   "cell_type": "code",
   "execution_count": null,
   "id": "817622c1",
   "metadata": {},
   "outputs": [],
   "source": [
    "#Q9: Create a pie chart to show the distribution of genres by global sales.\n",
    "import pandas as pd\n",
    "import matplotlib.pyplot as plt\n",
    "df=pd.read_csv(file_path)\n",
    "Genre=[\"Genre\"]\n",
    "Global_Sales=[\"Global_Sales\"]\n",
    "genre_sales = df.groupby(\"Genre\")[\"Global_Sales\"].sum(Global_Sales)\n",
    "plt.pie(genre_sales, labels=genre_sales.index, autopct='%1.1f%%', startangle=140)\n",
    "plt.title(\"Distribution of Genres by Global Sales\")\n",
    "fig.show()"
   ]
  }
 ],
 "metadata": {
  "kernelspec": {
   "display_name": "Python 3 (ipykernel)",
   "language": "python",
   "name": "python3"
  },
  "language_info": {
   "codemirror_mode": {
    "name": "ipython",
    "version": 3
   },
   "file_extension": ".py",
   "mimetype": "text/x-python",
   "name": "python",
   "nbconvert_exporter": "python",
   "pygments_lexer": "ipython3",
   "version": "3.11.4"
  }
 },
 "nbformat": 4,
 "nbformat_minor": 5
}
