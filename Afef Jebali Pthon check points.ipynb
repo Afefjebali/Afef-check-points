{
 "cells": [
  {
   "cell_type": "code",
   "execution_count": 53,
   "id": "0546db25",
   "metadata": {},
   "outputs": [],
   "source": [
    "#question1\n",
    "def liste():\n",
    "    n=[]\n",
    "    for x in range(2000,3200):\n",
    "        if x%7==0 and x%5!=0:\n",
    "            n.append(i)\n",
    "    return n"
   ]
  },
  {
   "cell_type": "code",
   "execution_count": 54,
   "id": "4ba97ce2",
   "metadata": {},
   "outputs": [],
   "source": [
    "#question2\n",
    "def factoriel(n):\n",
    "    s=1\n",
    "    for i in range(1,n+1):\n",
    "        s=s*i\n",
    "    return s\n"
   ]
  },
  {
   "cell_type": "code",
   "execution_count": 55,
   "id": "1e2ec41d",
   "metadata": {},
   "outputs": [],
   "source": [
    "#question3\n",
    "def dictt(n):\n",
    "    d=dict()\n",
    "    for i in range(1,n+1):\n",
    "        d[i]=i*i\n",
    "    return d"
   ]
  },
  {
   "cell_type": "code",
   "execution_count": 31,
   "id": "8c826fe5",
   "metadata": {},
   "outputs": [],
   "source": [
    "#question4\n",
    "def missing_char(ch,n):\n",
    "    l=list(ch)\n",
    "    del(l[n])\n",
    "    ch2=''.join(l)\n",
    "    return ch2\n",
    "    \n"
   ]
  },
  {
   "cell_type": "code",
   "execution_count": 36,
   "id": "95531c52",
   "metadata": {},
   "outputs": [],
   "source": [
    "#question5\n",
    "import numpy as np\n",
    "def convertir (matrice):\n",
    "    return atrice.tolist()"
   ]
  },
  {
   "cell_type": "code",
   "execution_count": 42,
   "id": "4b1498df",
   "metadata": {},
   "outputs": [
    {
     "ename": "NameError",
     "evalue": "name 'atrice' is not defined",
     "output_type": "error",
     "traceback": [
      "\u001b[1;31m---------------------------------------------------------------------------\u001b[0m",
      "\u001b[1;31mNameError\u001b[0m                                 Traceback (most recent call last)",
      "Cell \u001b[1;32mIn[42], line 2\u001b[0m\n\u001b[0;32m      1\u001b[0m m\u001b[38;5;241m=\u001b[39mnp\u001b[38;5;241m.\u001b[39marray([[\u001b[38;5;241m1\u001b[39m,\u001b[38;5;241m2\u001b[39m],[\u001b[38;5;241m3\u001b[39m,\u001b[38;5;241m4\u001b[39m]])\n\u001b[1;32m----> 2\u001b[0m l\u001b[38;5;241m=\u001b[39mconvertir(m)\n\u001b[0;32m      3\u001b[0m l\n",
      "Cell \u001b[1;32mIn[36], line 4\u001b[0m, in \u001b[0;36mconvertir\u001b[1;34m(matrice)\u001b[0m\n\u001b[0;32m      3\u001b[0m \u001b[38;5;28;01mdef\u001b[39;00m \u001b[38;5;21mconvertir\u001b[39m (matrice):\n\u001b[1;32m----> 4\u001b[0m     \u001b[38;5;28;01mreturn\u001b[39;00m atrice\u001b[38;5;241m.\u001b[39mtolist()\n",
      "\u001b[1;31mNameError\u001b[0m: name 'atrice' is not defined"
     ]
    }
   ],
   "source": [
    "m=np.array([[1,2],[3,4]])\n",
    "l=convertir(m)\n",
    "l"
   ]
  },
  {
   "cell_type": "code",
   "execution_count": 45,
   "id": "31b43d70",
   "metadata": {},
   "outputs": [],
   "source": [
    "#question6\n",
    "def covriance(x,y):\n",
    "    return np.cov(x,y)\n"
   ]
  },
  {
   "cell_type": "code",
   "execution_count": 47,
   "id": "aaa311e0",
   "metadata": {},
   "outputs": [
    {
     "ename": "NameError",
     "evalue": "name 'covariance' is not defined",
     "output_type": "error",
     "traceback": [
      "\u001b[1;31m---------------------------------------------------------------------------\u001b[0m",
      "\u001b[1;31mNameError\u001b[0m                                 Traceback (most recent call last)",
      "Cell \u001b[1;32mIn[47], line 3\u001b[0m\n\u001b[0;32m      1\u001b[0m x\u001b[38;5;241m=\u001b[39mnp\u001b[38;5;241m.\u001b[39marray([\u001b[38;5;241m0\u001b[39m,\u001b[38;5;241m1\u001b[39m,\u001b[38;5;241m2\u001b[39m])\n\u001b[0;32m      2\u001b[0m y\u001b[38;5;241m=\u001b[39mnp\u001b[38;5;241m.\u001b[39marray([\u001b[38;5;241m2\u001b[39m,\u001b[38;5;241m1\u001b[39m,\u001b[38;5;241m0\u001b[39m])\n\u001b[1;32m----> 3\u001b[0m covariance(x,y)\n",
      "\u001b[1;31mNameError\u001b[0m: name 'covariance' is not defined"
     ]
    }
   ],
   "source": [
    "x=np.array([0,1,2])\n",
    "y=np.array([2,1,0])\n",
    "covariance(x,y)\n"
   ]
  },
  {
   "cell_type": "code",
   "execution_count": 48,
   "id": "71898a88",
   "metadata": {},
   "outputs": [],
   "source": [
    "#question7\n",
    "from math import *\n",
    "def calculate():\n",
    "    c=50\n",
    "    h=30\n",
    "    ch=input('donner d: ')\n",
    "    i=ch.split(',')\n",
    "    for i in l:\n",
    "        print (sqrt((2* c * int(i))/h ))"
   ]
  },
  {
   "cell_type": "code",
   "execution_count": null,
   "id": "29535a19",
   "metadata": {},
   "outputs": [],
   "source": []
  }
 ],
 "metadata": {
  "kernelspec": {
   "display_name": "Python 3 (ipykernel)",
   "language": "python",
   "name": "python3"
  },
  "language_info": {
   "codemirror_mode": {
    "name": "ipython",
    "version": 3
   },
   "file_extension": ".py",
   "mimetype": "text/x-python",
   "name": "python",
   "nbconvert_exporter": "python",
   "pygments_lexer": "ipython3",
   "version": "3.11.4"
  }
 },
 "nbformat": 4,
 "nbformat_minor": 5
}
