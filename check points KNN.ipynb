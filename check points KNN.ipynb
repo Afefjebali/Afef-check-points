{
 "cells": [
  {
   "cell_type": "code",
   "execution_count": 19,
   "id": "ee95f439",
   "metadata": {},
   "outputs": [
    {
     "data": {
      "text/html": [
       "<div>\n",
       "<style scoped>\n",
       "    .dataframe tbody tr th:only-of-type {\n",
       "        vertical-align: middle;\n",
       "    }\n",
       "\n",
       "    .dataframe tbody tr th {\n",
       "        vertical-align: top;\n",
       "    }\n",
       "\n",
       "    .dataframe thead th {\n",
       "        text-align: right;\n",
       "    }\n",
       "</style>\n",
       "<table border=\"1\" class=\"dataframe\">\n",
       "  <thead>\n",
       "    <tr style=\"text-align: right;\">\n",
       "      <th></th>\n",
       "      <th>5.1</th>\n",
       "      <th>3.5</th>\n",
       "      <th>1.4</th>\n",
       "      <th>0.2</th>\n",
       "      <th>Iris-setosa</th>\n",
       "    </tr>\n",
       "  </thead>\n",
       "  <tbody>\n",
       "    <tr>\n",
       "      <th>0</th>\n",
       "      <td>4.9</td>\n",
       "      <td>3.0</td>\n",
       "      <td>1.4</td>\n",
       "      <td>0.2</td>\n",
       "      <td>Iris-setosa</td>\n",
       "    </tr>\n",
       "    <tr>\n",
       "      <th>1</th>\n",
       "      <td>4.7</td>\n",
       "      <td>3.2</td>\n",
       "      <td>1.3</td>\n",
       "      <td>0.2</td>\n",
       "      <td>Iris-setosa</td>\n",
       "    </tr>\n",
       "    <tr>\n",
       "      <th>2</th>\n",
       "      <td>4.6</td>\n",
       "      <td>3.1</td>\n",
       "      <td>1.5</td>\n",
       "      <td>0.2</td>\n",
       "      <td>Iris-setosa</td>\n",
       "    </tr>\n",
       "    <tr>\n",
       "      <th>3</th>\n",
       "      <td>5.0</td>\n",
       "      <td>3.6</td>\n",
       "      <td>1.4</td>\n",
       "      <td>0.2</td>\n",
       "      <td>Iris-setosa</td>\n",
       "    </tr>\n",
       "    <tr>\n",
       "      <th>4</th>\n",
       "      <td>5.4</td>\n",
       "      <td>3.9</td>\n",
       "      <td>1.7</td>\n",
       "      <td>0.4</td>\n",
       "      <td>Iris-setosa</td>\n",
       "    </tr>\n",
       "  </tbody>\n",
       "</table>\n",
       "</div>"
      ],
      "text/plain": [
       "   5.1  3.5  1.4  0.2  Iris-setosa\n",
       "0  4.9  3.0  1.4  0.2  Iris-setosa\n",
       "1  4.7  3.2  1.3  0.2  Iris-setosa\n",
       "2  4.6  3.1  1.5  0.2  Iris-setosa\n",
       "3  5.0  3.6  1.4  0.2  Iris-setosa\n",
       "4  5.4  3.9  1.7  0.4  Iris-setosa"
      ]
     },
     "execution_count": 19,
     "metadata": {},
     "output_type": "execute_result"
    }
   ],
   "source": [
    "import pandas as pd\n",
    "from sklearn.model_selection import train_test_split\n",
    "from sklearn.linear_model import LogisticRegression\n",
    "from sklearn.metrics import accuracy_score\n",
    "import matplotlib.pyplot as plt\n",
    "file_path=r\"C:\\Users\\afef.jebali\\OneDrive - TUI\\Desktop\\Training Course\\Exercice 01\\iris.data.txt\"\n",
    "import csv\n",
    "\n",
    "# Input and output file paths\n",
    "input_file = r\"C:\\Users\\afef.jebali\\OneDrive - TUI\\Desktop\\Training Course\\Exercice 01\\iris.data.txt\"\n",
    "output_file = r\"C:\\Users\\afef.jebali\\OneDrive - TUI\\Desktop\\Training Course\\Exercice 01\\iris.data.csv\"\n",
    "\n",
    "# Read the content from the text file and write to a CSV file\n",
    "with open(input_file, 'r') as txt_file, open(output_file, 'w', newline='') as csv_file:\n",
    "    # Assuming tab-separated values in the text file, if the delimiter is different, change the delimiter parameter\n",
    "    reader = csv.reader(txt_file, delimiter='\\t')  # Change the delimiter if needed\n",
    "    writer = csv.writer(csv_file)\n",
    "\n",
    "    # Write each row from the text file to the CSV file\n",
    "    for row in reader:\n",
    "        writer.writerow(row)\n",
    "\n",
    "df=pd.read_csv(file_path)\n",
    "df.head()"
   ]
  },
  {
   "cell_type": "code",
   "execution_count": 20,
   "id": "dd2a6789",
   "metadata": {},
   "outputs": [
    {
     "name": "stdout",
     "output_type": "stream",
     "text": [
      "Train: 95\n",
      "Test: 54\n"
     ]
    }
   ],
   "source": [
    "#1. Handle Data\n",
    "def loadDataset(filename, split, trainingSet=[], testSet=[]):\n",
    "    with open(filename, 'r') as csvfile:\n",
    "        lines = csv.reader(csvfile)\n",
    "        dataset = list(lines)\n",
    "        # Skip the first row (headers)\n",
    "        dataset = dataset[1:]\n",
    "        for x in range(len(dataset)):\n",
    "            for y in range(4):\n",
    "                dataset[x][y] = float(dataset[x][y])\n",
    "            if random.random() < split:\n",
    "                trainingSet.append(dataset[x])\n",
    "            else:\n",
    "                testSet.append(dataset[x])\n",
    "\n",
    "# Test the loadDataset function with the iris dataset using the file_path\n",
    "trainingSet = []\n",
    "testSet = []\n",
    "loadDataset(file_path, 0.66, trainingSet, testSet)\n",
    "print('Train: ' + repr(len(trainingSet)))\n",
    "print('Test: ' + repr(len(testSet)))\n"
   ]
  },
  {
   "cell_type": "code",
   "execution_count": 21,
   "id": "69941bd0",
   "metadata": {},
   "outputs": [
    {
     "name": "stdout",
     "output_type": "stream",
     "text": [
      "Distance: 3.4641016151377544\n"
     ]
    }
   ],
   "source": [
    "#2. Similarity\n",
    "import math\n",
    "\n",
    "def euclideanDistance(instance1, instance2, length):\n",
    "    distance = 0\n",
    "    for x in range(length):\n",
    "        distance += pow((instance1[x] - instance2[x]), 2)\n",
    "    return math.sqrt(distance)\n",
    "\n",
    "# Test the euclideanDistance function with sample data\n",
    "data1 = [2, 2, 2, 'a']\n",
    "data2 = [4, 4, 4, 'b']\n",
    "distance = euclideanDistance(data1, data2, 3)\n",
    "print('Distance:', distance)\n"
   ]
  },
  {
   "cell_type": "code",
   "execution_count": 22,
   "id": "8694487c",
   "metadata": {},
   "outputs": [
    {
     "name": "stdout",
     "output_type": "stream",
     "text": [
      "[[4, 4, 4, 'b']]\n"
     ]
    }
   ],
   "source": [
    "#3. Neighbors\n",
    "import operator\n",
    "import math\n",
    "\n",
    "# Define the euclideanDistance function\n",
    "def euclideanDistance(instance1, instance2, length):\n",
    "    distance = 0\n",
    "    for x in range(length):\n",
    "        distance += pow((instance1[x] - instance2[x]), 2)\n",
    "    return math.sqrt(distance)\n",
    "\n",
    "# Define the getNeighbors function\n",
    "def getNeighbors(trainingSet, testInstance, k):\n",
    "    distances = []\n",
    "    length = len(testInstance) - 1\n",
    "    for x in range(len(trainingSet)):\n",
    "        dist = euclideanDistance(testInstance, trainingSet[x], length)\n",
    "        distances.append((trainingSet[x], dist))\n",
    "    distances.sort(key=operator.itemgetter(1))\n",
    "    neighbors = []\n",
    "    for x in range(k):\n",
    "        neighbors.append(distances[x][0])\n",
    "    return neighbors\n",
    "\n",
    "# Test the getNeighbors function\n",
    "trainSet = [[2, 2, 2, 'a'], [4, 4, 4, 'b']]\n",
    "testInstance = [5, 5, 5]\n",
    "k = 1\n",
    "neighbors = getNeighbors(trainSet, testInstance, k)\n",
    "print(neighbors)\n"
   ]
  },
  {
   "cell_type": "code",
   "execution_count": 30,
   "id": "fe9350e0",
   "metadata": {},
   "outputs": [],
   "source": [
    "#4. Response\n",
    "import operator\n",
    "\n",
    "def getResponse(neighbors):\n",
    "    classVotes = {}\n",
    "    for x in range(len(neighbors)):\n",
    "        response = neighbors[x][-1]  # Assuming class is the last attribute\n",
    "        if response in classVotes:\n",
    "            classVotes[response] += 1\n",
    "        else:\n",
    "            classVotes[response] = 1\n",
    "    sortedVotes = sorted(classVotes.items(), key=operator.itemgetter(1), reverse=True)\n",
    "    return sortedVotes[0][0]\n"
   ]
  },
  {
   "cell_type": "code",
   "execution_count": 31,
   "id": "4de6c3c4",
   "metadata": {},
   "outputs": [
    {
     "name": "stdout",
     "output_type": "stream",
     "text": [
      "a\n"
     ]
    }
   ],
   "source": [
    "neighbors = [[1, 1, 1, 'a'], [2, 2, 2, 'a'], [3, 3, 3, 'b']]\n",
    "response = getResponse(neighbors)\n",
    "print(response)\n"
   ]
  },
  {
   "cell_type": "code",
   "execution_count": 32,
   "id": "45cb1c05",
   "metadata": {},
   "outputs": [
    {
     "name": "stdout",
     "output_type": "stream",
     "text": [
      "66.66666666666666\n"
     ]
    }
   ],
   "source": [
    "#5. Accuracy\n",
    "# Define the getAccuracy function\n",
    "def getAccuracy(testSet, predictions):\n",
    "    correct = 0\n",
    "    for x in range(len(testSet)):\n",
    "        if testSet[x][-1] == predictions[x]:\n",
    "            correct += 1\n",
    "    return (correct / float(len(testSet))) * 100.0\n",
    "\n",
    "# Test the getAccuracy function\n",
    "testSet = [[1, 1, 1, 'a'], [2, 2, 2, 'a'], [3, 3, 3, 'b']]\n",
    "predictions = ['a', 'a', 'a']\n",
    "accuracy = getAccuracy(testSet, predictions)\n",
    "print(accuracy)\n"
   ]
  },
  {
   "cell_type": "code",
   "execution_count": 33,
   "id": "1d704f3e",
   "metadata": {},
   "outputs": [
    {
     "name": "stdout",
     "output_type": "stream",
     "text": [
      "Predicted: Iris-setosa, Actual: Iris-setosa\n",
      "Predicted: Iris-setosa, Actual: Iris-setosa\n",
      "Predicted: Iris-setosa, Actual: Iris-setosa\n",
      "Predicted: Iris-setosa, Actual: Iris-setosa\n",
      "Predicted: Iris-setosa, Actual: Iris-setosa\n",
      "Predicted: Iris-setosa, Actual: Iris-setosa\n",
      "Predicted: Iris-setosa, Actual: Iris-setosa\n",
      "Predicted: Iris-setosa, Actual: Iris-setosa\n",
      "Predicted: Iris-setosa, Actual: Iris-setosa\n",
      "Predicted: Iris-setosa, Actual: Iris-setosa\n",
      "Predicted: Iris-setosa, Actual: Iris-setosa\n",
      "Predicted: Iris-setosa, Actual: Iris-setosa\n",
      "Predicted: Iris-setosa, Actual: Iris-setosa\n",
      "Predicted: Iris-setosa, Actual: Iris-setosa\n",
      "Predicted: Iris-setosa, Actual: Iris-setosa\n",
      "Predicted: Iris-setosa, Actual: Iris-setosa\n",
      "Predicted: Iris-setosa, Actual: Iris-setosa\n",
      "Predicted: Iris-versicolor, Actual: Iris-versicolor\n",
      "Predicted: Iris-versicolor, Actual: Iris-versicolor\n",
      "Predicted: Iris-versicolor, Actual: Iris-versicolor\n",
      "Predicted: Iris-versicolor, Actual: Iris-versicolor\n",
      "Predicted: Iris-versicolor, Actual: Iris-versicolor\n",
      "Predicted: Iris-versicolor, Actual: Iris-versicolor\n",
      "Predicted: Iris-versicolor, Actual: Iris-versicolor\n",
      "Predicted: Iris-versicolor, Actual: Iris-versicolor\n",
      "Predicted: Iris-versicolor, Actual: Iris-versicolor\n",
      "Predicted: Iris-virginica, Actual: Iris-versicolor\n",
      "Predicted: Iris-versicolor, Actual: Iris-versicolor\n",
      "Predicted: Iris-versicolor, Actual: Iris-versicolor\n",
      "Predicted: Iris-virginica, Actual: Iris-versicolor\n",
      "Predicted: Iris-versicolor, Actual: Iris-versicolor\n",
      "Predicted: Iris-versicolor, Actual: Iris-versicolor\n",
      "Predicted: Iris-versicolor, Actual: Iris-versicolor\n",
      "Predicted: Iris-virginica, Actual: Iris-virginica\n",
      "Predicted: Iris-virginica, Actual: Iris-virginica\n",
      "Predicted: Iris-virginica, Actual: Iris-virginica\n",
      "Predicted: Iris-virginica, Actual: Iris-virginica\n",
      "Predicted: Iris-virginica, Actual: Iris-virginica\n",
      "Predicted: Iris-virginica, Actual: Iris-virginica\n",
      "Predicted: Iris-virginica, Actual: Iris-virginica\n",
      "Predicted: Iris-virginica, Actual: Iris-virginica\n",
      "Predicted: Iris-virginica, Actual: Iris-virginica\n",
      "Predicted: Iris-virginica, Actual: Iris-virginica\n",
      "Accuracy: 95.34883720930233%\n"
     ]
    }
   ],
   "source": [
    "#6. Main\n",
    "import csv\n",
    "import random\n",
    "import math\n",
    "import operator\n",
    "\n",
    "# Define the euclideanDistance function\n",
    "def euclideanDistance(instance1, instance2, length):\n",
    "    distance = 0\n",
    "    for x in range(length):\n",
    "        distance += pow((instance1[x] - instance2[x]), 2)\n",
    "    return math.sqrt(distance)\n",
    "\n",
    "# Define the getNeighbors function\n",
    "def getNeighbors(trainingSet, testInstance, k):\n",
    "    distances = []\n",
    "    length = len(testInstance) - 1\n",
    "    for x in range(len(trainingSet)):\n",
    "        dist = euclideanDistance(testInstance, trainingSet[x], length)\n",
    "        distances.append((trainingSet[x], dist))\n",
    "    distances.sort(key=operator.itemgetter(1))\n",
    "    neighbors = []\n",
    "    for x in range(k):\n",
    "        neighbors.append(distances[x][0])\n",
    "    return neighbors\n",
    "\n",
    "# Define the getResponse function\n",
    "def getResponse(neighbors):\n",
    "    classVotes = {}\n",
    "    for x in range(len(neighbors)):\n",
    "        response = neighbors[x][-1]\n",
    "        if response in classVotes:\n",
    "            classVotes[response] += 1\n",
    "        else:\n",
    "            classVotes[response] = 1\n",
    "    sortedVotes = sorted(classVotes.items(), key=operator.itemgetter(1), reverse=True)\n",
    "    return sortedVotes[0][0]\n",
    "\n",
    "# Define the getAccuracy function\n",
    "def getAccuracy(testSet, predictions):\n",
    "    correct = 0\n",
    "    for x in range(len(testSet)):\n",
    "        if testSet[x][-1] == predictions[x]:\n",
    "            correct += 1\n",
    "    return (correct / float(len(testSet))) * 100.0\n",
    "\n",
    "# Define the main function\n",
    "def main(filename, split, k):\n",
    "    trainingSet = []\n",
    "    testSet = []\n",
    "    with open(filename, 'r') as csvfile:\n",
    "        lines = csv.reader(csvfile)\n",
    "        dataset = list(lines)\n",
    "        for x in range(len(dataset) - 1):\n",
    "            for y in range(4):\n",
    "                dataset[x][y] = float(dataset[x][y])\n",
    "            if random.random() < split:\n",
    "                trainingSet.append(dataset[x])\n",
    "            else:\n",
    "                testSet.append(dataset[x])\n",
    "\n",
    "    predictions = []\n",
    "    for x in range(len(testSet)):\n",
    "        neighbors = getNeighbors(trainingSet, testSet[x], k)\n",
    "        result = getResponse(neighbors)\n",
    "        predictions.append(result)\n",
    "        print(f\"Predicted: {result}, Actual: {testSet[x][-1]}\")\n",
    "\n",
    "    accuracy = getAccuracy(testSet, predictions)\n",
    "    print('Accuracy: ' + repr(accuracy) + '%')\n",
    "\n",
    "# Test the main function with the file_path variable\n",
    "file_path = r\"C:\\Users\\afef.jebali\\OneDrive - TUI\\Desktop\\Training Course\\Exercice 01\\iris.data.txt\"\n",
    "main(file_path, 0.66, 3)\n"
   ]
  },
  {
   "cell_type": "code",
   "execution_count": 34,
   "id": "285f637d",
   "metadata": {},
   "outputs": [],
   "source": [
    "#7. Another distance metric\n",
    "def manhattanDistance(instance1, instance2, length):\n",
    "    distance = 0\n",
    "    for x in range(length):\n",
    "        distance += abs(instance1[x] - instance2[x])\n",
    "    return distance\n"
   ]
  },
  {
   "cell_type": "code",
   "execution_count": 35,
   "id": "30a96bcf",
   "metadata": {},
   "outputs": [
    {
     "name": "stdout",
     "output_type": "stream",
     "text": [
      "[[4, 4, 4, 'b']]\n"
     ]
    }
   ],
   "source": [
    "# Define the manhattanDistance function\n",
    "def manhattanDistance(instance1, instance2, length):\n",
    "    distance = 0\n",
    "    for x in range(length):\n",
    "        distance += abs(instance1[x] - instance2[x])\n",
    "    return distance\n",
    "\n",
    "# Example usage in your getNeighbors function\n",
    "def getNeighborsManhattan(trainingSet, testInstance, k):\n",
    "    distances = []\n",
    "    length = len(testInstance) - 1\n",
    "    for x in range(len(trainingSet)):\n",
    "        dist = manhattanDistance(testInstance, trainingSet[x], length)\n",
    "        distances.append((trainingSet[x], dist))\n",
    "    distances.sort(key=operator.itemgetter(1))\n",
    "    neighbors = []\n",
    "    for x in range(k):\n",
    "        neighbors.append(distances[x][0])\n",
    "    return neighbors\n",
    "\n",
    "# Test the getNeighborsManhattan function with sample data\n",
    "trainingSet = [[2, 2, 2, 'a'], [4, 4, 4, 'b']]  # Your training set\n",
    "testInstance = [5, 5, 5]  # Your test instance\n",
    "\n",
    "k = 1\n",
    "neighbors = getNeighborsManhattan(trainingSet, testInstance, k)\n",
    "print(neighbors)\n"
   ]
  },
  {
   "cell_type": "code",
   "execution_count": null,
   "id": "85fa308b",
   "metadata": {},
   "outputs": [],
   "source": []
  }
 ],
 "metadata": {
  "kernelspec": {
   "display_name": "Python 3 (ipykernel)",
   "language": "python",
   "name": "python3"
  },
  "language_info": {
   "codemirror_mode": {
    "name": "ipython",
    "version": 3
   },
   "file_extension": ".py",
   "mimetype": "text/x-python",
   "name": "python",
   "nbconvert_exporter": "python",
   "pygments_lexer": "ipython3",
   "version": "3.11.4"
  }
 },
 "nbformat": 4,
 "nbformat_minor": 5
}
